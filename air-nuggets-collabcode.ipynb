{
  "nbformat": 4,
  "nbformat_minor": 0,
  "metadata": {
    "colab": {
      "provenance": []
    },
    "kernelspec": {
      "name": "python3",
      "display_name": "Python 3"
    },
    "language_info": {
      "name": "python"
    }
  },
  "cells": [
    {
      "cell_type": "code",
      "source": [
        "#hi diya"
      ],
      "metadata": {
        "id": "NzC6vLbG6fxo"
      },
      "execution_count": 1,
      "outputs": []
    },
    {
      "cell_type": "code",
      "source": [
        "!pip install pymupdf\n",
        "!pip install psycopg2"
      ],
      "metadata": {
        "colab": {
          "base_uri": "https://localhost:8080/"
        },
        "id": "vxXgeNerdCA_",
        "outputId": "b41719e2-2f5f-470b-cb92-67a7666e5b03"
      },
      "execution_count": null,
      "outputs": [
        {
          "output_type": "stream",
          "name": "stdout",
          "text": [
            "Collecting pymupdf\n",
            "  Downloading pymupdf-1.26.0-cp39-abi3-manylinux2014_x86_64.manylinux_2_17_x86_64.whl.metadata (3.4 kB)\n",
            "Downloading pymupdf-1.26.0-cp39-abi3-manylinux2014_x86_64.manylinux_2_17_x86_64.whl (24.1 MB)\n",
            "\u001b[2K   \u001b[90m━━━━━━━━━━━━━━━━━━━━━━━━━━━━━━━━━━━━━━━━\u001b[0m \u001b[32m24.1/24.1 MB\u001b[0m \u001b[31m21.1 MB/s\u001b[0m eta \u001b[36m0:00:00\u001b[0m\n",
            "\u001b[?25hInstalling collected packages: pymupdf\n",
            "Successfully installed pymupdf-1.26.0\n",
            "Requirement already satisfied: psycopg2 in /usr/local/lib/python3.11/dist-packages (2.9.10)\n"
          ]
        }
      ]
    },
    {
      "cell_type": "code",
      "source": [
        "import fitz\n",
        "import os"
      ],
      "metadata": {
        "id": "EQYQvkt8dFlS"
      },
      "execution_count": null,
      "outputs": []
    },
    {
      "cell_type": "code",
      "source": [
        "import requests\n",
        "from bs4 import BeautifulSoup\n",
        "\n",
        "url = \"https://arxiv.org/list/cs.AI/recent\"\n",
        "response = requests.get(url)\n",
        "soup = BeautifulSoup(response.content, \"html.parser\")\n",
        "\n"
      ],
      "metadata": {
        "id": "InBIC9HMvjrx"
      },
      "execution_count": null,
      "outputs": []
    },
    {
      "cell_type": "code",
      "source": [
        "base_url = \"https://arxiv.org\"\n",
        "papers = []"
      ],
      "metadata": {
        "id": "V5r_ImYZ-InQ"
      },
      "execution_count": null,
      "outputs": []
    },
    {
      "cell_type": "code",
      "source": [
        "for dt, dd in zip(soup.find_all(\"dt\"), soup.find_all(\"dd\")):\n",
        "    paper_id = dt.find(\"a\", title=\"Abstract\")[\"href\"]\n",
        "    title = dd.find(\"div\", class_=\"list-title\").text.replace(\"Title:\", \"\").strip()\n",
        "    pdf_link = base_url + paper_id.replace(\"/abs/\", \"/pdf/\")\n",
        "    papers.append({ \"pdf_link\": pdf_link})"
      ],
      "metadata": {
        "id": "lnOY0CJC-j-A"
      },
      "execution_count": null,
      "outputs": []
    },
    {
      "cell_type": "code",
      "source": [
        "len(papers)"
      ],
      "metadata": {
        "colab": {
          "base_uri": "https://localhost:8080/"
        },
        "id": "D1SW11hhw5-k",
        "outputId": "59cd16f7-2d29-4233-be01-cb6deb76e568"
      },
      "execution_count": null,
      "outputs": [
        {
          "output_type": "execute_result",
          "data": {
            "text/plain": [
              "50"
            ]
          },
          "metadata": {},
          "execution_count": 6
        }
      ]
    },
    {
      "cell_type": "code",
      "source": [
        "papers"
      ],
      "metadata": {
        "colab": {
          "base_uri": "https://localhost:8080/"
        },
        "id": "hTtVslwm-aAJ",
        "outputId": "f87e3111-1e4e-4351-9cda-725c45f9f6b5"
      },
      "execution_count": null,
      "outputs": [
        {
          "output_type": "execute_result",
          "data": {
            "text/plain": [
              "[{'pdf_link': 'https://arxiv.org/pdf/2505.15742'},\n",
              " {'pdf_link': 'https://arxiv.org/pdf/2505.15693'},\n",
              " {'pdf_link': 'https://arxiv.org/pdf/2505.15410'},\n",
              " {'pdf_link': 'https://arxiv.org/pdf/2505.15400'},\n",
              " {'pdf_link': 'https://arxiv.org/pdf/2505.15276'},\n",
              " {'pdf_link': 'https://arxiv.org/pdf/2505.15274'},\n",
              " {'pdf_link': 'https://arxiv.org/pdf/2505.15240'},\n",
              " {'pdf_link': 'https://arxiv.org/pdf/2505.15146'},\n",
              " {'pdf_link': 'https://arxiv.org/pdf/2505.15068'},\n",
              " {'pdf_link': 'https://arxiv.org/pdf/2505.15011'},\n",
              " {'pdf_link': 'https://arxiv.org/pdf/2505.14983'},\n",
              " {'pdf_link': 'https://arxiv.org/pdf/2505.14970'},\n",
              " {'pdf_link': 'https://arxiv.org/pdf/2505.14946'},\n",
              " {'pdf_link': 'https://arxiv.org/pdf/2505.14940'},\n",
              " {'pdf_link': 'https://arxiv.org/pdf/2505.14932'},\n",
              " {'pdf_link': 'https://arxiv.org/pdf/2505.14738'},\n",
              " {'pdf_link': 'https://arxiv.org/pdf/2505.14689'},\n",
              " {'pdf_link': 'https://arxiv.org/pdf/2505.15810'},\n",
              " {'pdf_link': 'https://arxiv.org/pdf/2505.15808'},\n",
              " {'pdf_link': 'https://arxiv.org/pdf/2505.15801'},\n",
              " {'pdf_link': 'https://arxiv.org/pdf/2505.15792'},\n",
              " {'pdf_link': 'https://arxiv.org/pdf/2505.15790'},\n",
              " {'pdf_link': 'https://arxiv.org/pdf/2505.15784'},\n",
              " {'pdf_link': 'https://arxiv.org/pdf/2505.15779'},\n",
              " {'pdf_link': 'https://arxiv.org/pdf/2505.15778'},\n",
              " {'pdf_link': 'https://arxiv.org/pdf/2505.15765'},\n",
              " {'pdf_link': 'https://arxiv.org/pdf/2505.15754'},\n",
              " {'pdf_link': 'https://arxiv.org/pdf/2505.15753'},\n",
              " {'pdf_link': 'https://arxiv.org/pdf/2505.15747'},\n",
              " {'pdf_link': 'https://arxiv.org/pdf/2505.15746'},\n",
              " {'pdf_link': 'https://arxiv.org/pdf/2505.15740'},\n",
              " {'pdf_link': 'https://arxiv.org/pdf/2505.15738'},\n",
              " {'pdf_link': 'https://arxiv.org/pdf/2505.15734'},\n",
              " {'pdf_link': 'https://arxiv.org/pdf/2505.15722'},\n",
              " {'pdf_link': 'https://arxiv.org/pdf/2505.15703'},\n",
              " {'pdf_link': 'https://arxiv.org/pdf/2505.15694'},\n",
              " {'pdf_link': 'https://arxiv.org/pdf/2505.15687'},\n",
              " {'pdf_link': 'https://arxiv.org/pdf/2505.15683'},\n",
              " {'pdf_link': 'https://arxiv.org/pdf/2505.15674'},\n",
              " {'pdf_link': 'https://arxiv.org/pdf/2505.15671'},\n",
              " {'pdf_link': 'https://arxiv.org/pdf/2505.15662'},\n",
              " {'pdf_link': 'https://arxiv.org/pdf/2505.15657'},\n",
              " {'pdf_link': 'https://arxiv.org/pdf/2505.15647'},\n",
              " {'pdf_link': 'https://arxiv.org/pdf/2505.15644'},\n",
              " {'pdf_link': 'https://arxiv.org/pdf/2505.15633'},\n",
              " {'pdf_link': 'https://arxiv.org/pdf/2505.15612'},\n",
              " {'pdf_link': 'https://arxiv.org/pdf/2505.15607'},\n",
              " {'pdf_link': 'https://arxiv.org/pdf/2505.15596'},\n",
              " {'pdf_link': 'https://arxiv.org/pdf/2505.15594'},\n",
              " {'pdf_link': 'https://arxiv.org/pdf/2505.15589'}]"
            ]
          },
          "metadata": {},
          "execution_count": 6
        }
      ]
    },
    {
      "cell_type": "code",
      "source": [
        "from google.colab import userdata\n",
        "os.environ['OPENAI_API_KEY'] = userdata.get('APIKey')\n",
        "from openai import OpenAI\n",
        "client = OpenAI()"
      ],
      "metadata": {
        "id": "unvKdiD7-HB5"
      },
      "execution_count": null,
      "outputs": []
    },
    {
      "cell_type": "code",
      "source": [
        "def extract_text_from_pdf(pdf_path):\n",
        "        doc = fitz.open('paper.pdf')\n",
        "        text = \"\"\n",
        "        for page in doc:\n",
        "            text += page.get_text()\n",
        "        doc.close()\n",
        "        return text"
      ],
      "metadata": {
        "id": "8qFCawSR9x7V"
      },
      "execution_count": null,
      "outputs": []
    },
    {
      "cell_type": "code",
      "source": [
        "database_items=[]"
      ],
      "metadata": {
        "id": "AkX0FLrl_RJ9"
      },
      "execution_count": null,
      "outputs": []
    },
    {
      "cell_type": "code",
      "source": [
        "import os\n",
        "import requests\n",
        "\n",
        "os.makedirs(\"Summaries\", exist_ok=True)\n",
        "database_items = []\n",
        "\n",
        "for paper in papers[:25]:\n",
        "    url = paper['pdf_link']\n",
        "    name = url.split('/')[-1]\n",
        "    print(name)\n",
        "\n",
        "    response = requests.get(url)\n",
        "    with open(\"paper.pdf\", \"wb\") as file:\n",
        "        file.write(response.content)\n",
        "\n",
        "    text1 = extract_text_from_pdf('/content/paper.pdf')\n",
        "\n",
        "    # Call 1: Summary\n",
        "    response = client.chat.completions.create(\n",
        "        model=\"gpt-4o-mini\",\n",
        "        messages=[\n",
        "            {\n",
        "                \"role\": \"user\",\n",
        "                \"content\": \"Summarize the content into 400 words with a title and a few paragraphs. Make it understandable for people with little knowledge on the field:\\n\\n\" + text1\n",
        "            }\n",
        "        ],\n",
        "    )\n",
        "    summary_text = response.choices[0].message.content\n",
        "\n",
        "    # Save summary\n",
        "    with open(f\"Summaries/{name}.txt\", \"w+\", encoding=\"utf-8\") as f:\n",
        "        f.write(summary_text + \"\\n\\n\")\n",
        "\n",
        "    # Call 2: Title only\n",
        "    title_response = client.chat.completions.create(\n",
        "        model=\"gpt-4o-mini\",\n",
        "        messages=[\n",
        "            {\n",
        "                \"role\": \"user\",\n",
        "                \"content\": \"Give a clear and concise title for this academic paper:\\n\\n\" + text1\n",
        "            }\n",
        "        ],\n",
        "    )\n",
        "    title = title_response.choices[0].message.content.strip().replace('\\n', ' ')\n",
        "\n",
        "    # Add to database_items\n",
        "    database_items.append((paper['pdf_link'], f\"{name}.txt\", title))\n"
      ],
      "metadata": {
        "colab": {
          "base_uri": "https://localhost:8080/"
        },
        "id": "lR0_Of59H_DZ",
        "outputId": "3aa0ea2e-e62e-4edb-8009-d9edb249a85f"
      },
      "execution_count": null,
      "outputs": [
        {
          "output_type": "stream",
          "name": "stdout",
          "text": [
            "2506.09050\n",
            "2506.09049\n",
            "2506.09038\n",
            "2506.08970\n",
            "2506.08963\n",
            "2506.08957\n",
            "2506.08898\n",
            "2506.08872\n",
            "2506.08800\n",
            "2506.08771\n",
            "2506.08747\n",
            "2506.08745\n",
            "2506.08630\n",
            "2506.08627\n",
            "2506.08580\n",
            "2506.08532\n",
            "2506.08518\n",
            "2506.08486\n",
            "2506.08462\n",
            "2506.08446\n",
            "2506.08424\n",
            "2506.08422\n",
            "2506.08401\n",
            "2506.08399\n",
            "2506.08390\n"
          ]
        }
      ]
    },
    {
      "cell_type": "code",
      "source": [
        "# with open(\"ur1.txt\", \"r\", encoding=\"utf-8\") as f:\n",
        "#     content = f.read()\n",
        "#     # print(content)\n"
      ],
      "metadata": {
        "id": "V09kiUKcVGUm"
      },
      "execution_count": 3,
      "outputs": []
    },
    {
      "cell_type": "code",
      "source": [
        "from google.cloud import storage\n",
        "\n",
        "\n",
        "def upload_blob(bucket_name, source_file_name, destination_blob_name):\n",
        "    \"\"\"Uploads a file to the bucket.\"\"\"\n",
        "    # The ID of your GCS bucket\n",
        "    # bucket_name = \"your-bucket-name\"\n",
        "    # The path to your file to upload\n",
        "    # source_file_name = \"local/path/to/file\"\n",
        "    # The ID of your GCS object\n",
        "    # destination_blob_name = \"storage-object-name\"\n",
        "\n",
        "    storage_client = storage.Client()\n",
        "    bucket = storage_client.bucket(bucket_name)\n",
        "    blob = bucket.blob(destination_blob_name)\n",
        "\n",
        "    # Optional: set a generation-match precondition to avoid potential race conditions\n",
        "    # and data corruptions. The request to upload is aborted if the object's\n",
        "    # generation number does not match your precondition. For a destination\n",
        "    # object that does not yet exist, set the if_generation_match precondition to 0.\n",
        "    # If the destination object already exists in your bucket, set instead a\n",
        "    # generation-match precondition using its generation number.\n",
        "    generation_match_precondition = 0\n",
        "\n",
        "    blob.upload_from_filename(source_file_name, if_generation_match=generation_match_precondition)\n",
        "\n",
        "    print(\n",
        "        f\"File {source_file_name} uploaded to {destination_blob_name}.\"\n",
        "    )\n"
      ],
      "metadata": {
        "id": "cBKeMp4Qs-sI"
      },
      "execution_count": null,
      "outputs": []
    },
    {
      "cell_type": "code",
      "source": [
        "os.environ['GOOGLE_APPLICATION_CREDENTIALS']=userdata.get('GoogleCred')"
      ],
      "metadata": {
        "id": "WaFUSaKp09Zl"
      },
      "execution_count": null,
      "outputs": []
    },
    {
      "cell_type": "code",
      "source": [
        "def upload_all_summaries():\n",
        "    summaries_folder = \"Summaries\"\n",
        "    bucket_name = \"neural_nuggets_summaries\"\n",
        "\n",
        "    # Walk through the summaries folder\n",
        "    for root, dirs, files in os.walk(summaries_folder):\n",
        "        for file in files:\n",
        "            if file.endswith(\".txt\"):\n",
        "                local_path = os.path.join(root, file)\n",
        "                blob_name = file  # Same as the file name\n",
        "\n",
        "                # Call your upload function\n",
        "                upload_blob(bucket_name, local_path, blob_name)\n",
        "\n",
        "# Call the function\n",
        "upload_all_summaries()"
      ],
      "metadata": {
        "colab": {
          "base_uri": "https://localhost:8080/"
        },
        "id": "xJRvQVKZ3on3",
        "outputId": "329c090e-9357-4859-e95f-58c567b7793c"
      },
      "execution_count": null,
      "outputs": [
        {
          "output_type": "stream",
          "name": "stdout",
          "text": [
            "File Summaries/2506.08532.txt uploaded to 2506.08532.txt.\n",
            "File Summaries/2506.08462.txt uploaded to 2506.08462.txt.\n",
            "File Summaries/2506.08771.txt uploaded to 2506.08771.txt.\n",
            "File Summaries/2506.08745.txt uploaded to 2506.08745.txt.\n",
            "File Summaries/2506.08390.txt uploaded to 2506.08390.txt.\n",
            "File Summaries/2506.08627.txt uploaded to 2506.08627.txt.\n",
            "File Summaries/2506.08399.txt uploaded to 2506.08399.txt.\n",
            "File Summaries/2506.08580.txt uploaded to 2506.08580.txt.\n",
            "File Summaries/2506.08800.txt uploaded to 2506.08800.txt.\n",
            "File Summaries/2506.08963.txt uploaded to 2506.08963.txt.\n",
            "File Summaries/2506.09050.txt uploaded to 2506.09050.txt.\n",
            "File Summaries/2506.08970.txt uploaded to 2506.08970.txt.\n",
            "File Summaries/2506.09049.txt uploaded to 2506.09049.txt.\n",
            "File Summaries/2506.08747.txt uploaded to 2506.08747.txt.\n",
            "File Summaries/2506.08898.txt uploaded to 2506.08898.txt.\n",
            "File Summaries/2506.08422.txt uploaded to 2506.08422.txt.\n",
            "File Summaries/2506.08424.txt uploaded to 2506.08424.txt.\n",
            "File Summaries/2506.08446.txt uploaded to 2506.08446.txt.\n",
            "File Summaries/2506.08630.txt uploaded to 2506.08630.txt.\n",
            "File Summaries/2506.08486.txt uploaded to 2506.08486.txt.\n",
            "File Summaries/2506.08872.txt uploaded to 2506.08872.txt.\n",
            "File Summaries/2506.08518.txt uploaded to 2506.08518.txt.\n",
            "File Summaries/2506.09038.txt uploaded to 2506.09038.txt.\n",
            "File Summaries/2506.08401.txt uploaded to 2506.08401.txt.\n",
            "File Summaries/2506.08957.txt uploaded to 2506.08957.txt.\n"
          ]
        }
      ]
    },
    {
      "cell_type": "code",
      "source": [
        "import psycopg2\n",
        "\n",
        "connection_string = userdata.get(\"neonCred\")"
      ],
      "metadata": {
        "id": "fQW8RzYR6w4D"
      },
      "execution_count": null,
      "outputs": []
    },
    {
      "cell_type": "code",
      "source": [
        "def upload_todatabse(connection_string, link_summary_list):\n",
        "    sql = \"\"\"\n",
        "    INSERT INTO neural_nuggets (pdflink, summary_path, title)\n",
        "    VALUES (%s, %s, %s)\n",
        "    \"\"\"\n",
        "\n",
        "    try:\n",
        "        with psycopg2.connect(connection_string) as conn:\n",
        "            with conn.cursor() as cur:\n",
        "                cur.executemany(sql, link_summary_list)\n",
        "            conn.commit()\n",
        "    except Exception as e:\n",
        "        print(\"Error during database upload:\", e)"
      ],
      "metadata": {
        "id": "FzCDbzYG6rqZ"
      },
      "execution_count": null,
      "outputs": []
    },
    {
      "cell_type": "code",
      "source": [
        "\n",
        "upload_todatabse(connection_string, database_items)"
      ],
      "metadata": {
        "id": "mzw1gcOU988o"
      },
      "execution_count": null,
      "outputs": []
    },
    {
      "cell_type": "code",
      "source": [
        "def extract_text_from_pdf(pdf_path):\n",
        "    doc = fitz.open('paper.pdf')\n",
        "    text = \"\"\n",
        "    for page in doc:\n",
        "        text += page.get_text()\n",
        "    doc.close()\n",
        "    return text"
      ],
      "metadata": {
        "id": "xYwB3LUQdMZP"
      },
      "execution_count": null,
      "outputs": []
    },
    {
      "cell_type": "code",
      "source": [
        "text1=extract_text_from_pdf('/content/paper.pdf')\n"
      ],
      "metadata": {
        "id": "SaLJsbKFwRxz"
      },
      "execution_count": null,
      "outputs": []
    },
    {
      "cell_type": "code",
      "source": [
        "import os\n",
        "from google.colab import userdata\n",
        "os.environ['OPENAI_API_KEY'] = userdata.get('APIKey')"
      ],
      "metadata": {
        "id": "OaXEaa4mqgzH"
      },
      "execution_count": null,
      "outputs": []
    },
    {
      "cell_type": "code",
      "source": [
        "# from openai import OpenAI\n",
        "# client = OpenAI()\n",
        "# response = client.chat.completions.create(\n",
        "#     model=\"gpt-4o-mini\",\n",
        "#     messages=[\n",
        "#         {\"role\": \"user\", \"content\": \"Summarize the content into 200 words with a title. Make it understandable for people with little knowledge on the field:\\n\\n\"+text1}\n",
        "#     ],\n",
        "# )\n",
        "\n",
        "# print(response.choices[0].message.content)\n"
      ],
      "metadata": {
        "id": "qBN7AomUg7o5"
      },
      "execution_count": 2,
      "outputs": []
    },
    {
      "cell_type": "code",
      "execution_count": null,
      "metadata": {
        "id": "1dInf8tHcVlU"
      },
      "outputs": [],
      "source": []
    }
  ]
}